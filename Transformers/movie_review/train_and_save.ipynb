{
 "cells": [
  {
   "cell_type": "code",
   "execution_count": 63,
   "metadata": {},
   "outputs": [
    {
     "name": "stdout",
     "output_type": "stream",
     "text": [
      "Using cuda device\n"
     ]
    }
   ],
   "source": [
    "from tqdm import tqdm\n",
    "\n",
    "import pickle\n",
    "import os\n",
    "\n",
    "import matplotlib.pyplot as plt\n",
    "\n",
    "from dataset import *\n",
    "from model import *\n",
    "\n",
    "import torch\n",
    "import torch.nn as nn\n",
    "\n",
    "device = 'cuda' if torch.cuda.is_available() else 'cpu'\n",
    "print(f'Using {device} device')\n",
    "\n",
    "path_save = './results/'\n",
    "\n",
    "if not os.path.exists(path_save):\n",
    "    os.makedirs(path_save)"
   ]
  },
  {
   "cell_type": "markdown",
   "metadata": {},
   "source": [
    "We first define some hyperparameters, load the data, create the model."
   ]
  },
  {
   "cell_type": "code",
   "execution_count": 7,
   "metadata": {},
   "outputs": [],
   "source": [
    "# Hyperparameters\n",
    "lr = 1e-3\n",
    "batch_size = 128\n",
    "n_epochs = 10\n",
    "num_layers = 6\n",
    "d = 2"
   ]
  },
  {
   "cell_type": "code",
   "execution_count": 3,
   "metadata": {},
   "outputs": [
    {
     "name": "stdout",
     "output_type": "stream",
     "text": [
      "Number of unique words:  101160\n",
      "Maximum length of a review:  1416\n",
      "Data loaded\n"
     ]
    }
   ],
   "source": [
    "# Load the data\n",
    "data_loader_train, data_loader_test, len_all_words, max_len, data_train, data_test, dic = load_data(batch_size = batch_size, path = \"./IMDB.csv\")\n",
    "print(\"Data loaded\")"
   ]
  },
  {
   "cell_type": "code",
   "execution_count": 4,
   "metadata": {},
   "outputs": [
    {
     "data": {
      "text/plain": [
       "CustomTransformer(\n",
       "  (attention_layers): ModuleList(\n",
       "    (0-5): 6 x SimpleAttention(\n",
       "      (query): Linear(in_features=2, out_features=2, bias=False)\n",
       "      (key): Linear(in_features=2, out_features=2, bias=False)\n",
       "      (value): Linear(in_features=2, out_features=2, bias=False)\n",
       "    )\n",
       "  )\n",
       "  (proj): Linear(in_features=2, out_features=1, bias=True)\n",
       ")"
      ]
     },
     "execution_count": 4,
     "metadata": {},
     "output_type": "execute_result"
    }
   ],
   "source": [
    "# Create the model\n",
    "model = CustomTransformer(num_words = len_all_words, d = d, num_layers = num_layers, beta = 1., share = False, value = \"identity\")\n",
    "model.to(device)"
   ]
  },
  {
   "cell_type": "markdown",
   "metadata": {},
   "source": [
    "We can then start training:"
   ]
  },
  {
   "cell_type": "code",
   "execution_count": 5,
   "metadata": {},
   "outputs": [],
   "source": [
    "# Loss and optimizer\n",
    "criterion = nn.BCELoss()\n",
    "optimizer = torch.optim.Adam(model.parameters(), lr = lr)"
   ]
  },
  {
   "cell_type": "code",
   "execution_count": 9,
   "metadata": {},
   "outputs": [
    {
     "name": "stderr",
     "output_type": "stream",
     "text": [
      "Epoch 1/10: 100%|██████████| 274/274 [01:13<00:00,  3.75it/s]\n",
      "Test : 100%|██████████| 118/118 [00:08<00:00, 13.87it/s]\n"
     ]
    },
    {
     "name": "stdout",
     "output_type": "stream",
     "text": [
      "Epoch 1, train_loss: 0.5382582143928013, train_accu: 0.7541428571428571, test_loss: 0.5344847362425368, test_accu: 0.752\n"
     ]
    },
    {
     "name": "stderr",
     "output_type": "stream",
     "text": [
      "Epoch 2/10: 100%|██████████| 274/274 [01:12<00:00,  3.75it/s]\n",
      "Test : 100%|██████████| 118/118 [00:08<00:00, 13.89it/s]\n"
     ]
    },
    {
     "name": "stdout",
     "output_type": "stream",
     "text": [
      "Epoch 2, train_loss: 0.48300357478378464, train_accu: 0.7930285714285714, test_loss: 0.49723244546833684, test_accu: 0.7775333333333333\n"
     ]
    },
    {
     "name": "stderr",
     "output_type": "stream",
     "text": [
      "Epoch 3/10: 100%|██████████| 274/274 [01:12<00:00,  3.76it/s]\n",
      "Test : 100%|██████████| 118/118 [00:08<00:00, 13.89it/s]\n"
     ]
    },
    {
     "name": "stdout",
     "output_type": "stream",
     "text": [
      "Epoch 3, train_loss: 0.4371739656385714, train_accu: 0.8192285714285714, test_loss: 0.46539586807711647, test_accu: 0.7945333333333333\n"
     ]
    },
    {
     "name": "stderr",
     "output_type": "stream",
     "text": [
      "Epoch 4/10: 100%|██████████| 274/274 [01:12<00:00,  3.76it/s]\n",
      "Test : 100%|██████████| 118/118 [00:08<00:00, 13.89it/s]\n"
     ]
    },
    {
     "name": "stdout",
     "output_type": "stream",
     "text": [
      "Epoch 4, train_loss: 0.3979995848923704, train_accu: 0.8433428571428572, test_loss: 0.44012271524485896, test_accu: 0.8108666666666666\n"
     ]
    },
    {
     "name": "stderr",
     "output_type": "stream",
     "text": [
      "Epoch 5/10: 100%|██████████| 274/274 [01:12<00:00,  3.76it/s]\n",
      "Test : 100%|██████████| 118/118 [00:08<00:00, 13.89it/s]\n"
     ]
    },
    {
     "name": "stdout",
     "output_type": "stream",
     "text": [
      "Epoch 5, train_loss: 0.3627815323807027, train_accu: 0.8624285714285714, test_loss: 0.42571996935343337, test_accu: 0.8193333333333334\n"
     ]
    },
    {
     "name": "stderr",
     "output_type": "stream",
     "text": [
      "Epoch 6/10: 100%|██████████| 274/274 [01:12<00:00,  3.76it/s]\n",
      "Test : 100%|██████████| 118/118 [00:08<00:00, 13.89it/s]\n"
     ]
    },
    {
     "name": "stdout",
     "output_type": "stream",
     "text": [
      "Epoch 6, train_loss: 0.3341304427624619, train_accu: 0.8759714285714286, test_loss: 0.4147014484062033, test_accu: 0.8287333333333333\n"
     ]
    },
    {
     "name": "stderr",
     "output_type": "stream",
     "text": [
      "Epoch 7/10: 100%|██████████| 274/274 [01:12<00:00,  3.76it/s]\n",
      "Test : 100%|██████████| 118/118 [00:08<00:00, 13.88it/s]\n"
     ]
    },
    {
     "name": "stdout",
     "output_type": "stream",
     "text": [
      "Epoch 7, train_loss: 0.30776435588180584, train_accu: 0.8894857142857143, test_loss: 0.41006669907246607, test_accu: 0.8336\n"
     ]
    },
    {
     "name": "stderr",
     "output_type": "stream",
     "text": [
      "Epoch 8/10: 100%|██████████| 274/274 [01:12<00:00,  3.75it/s]\n",
      "Test : 100%|██████████| 118/118 [00:08<00:00, 13.89it/s]\n"
     ]
    },
    {
     "name": "stdout",
     "output_type": "stream",
     "text": [
      "Epoch 8, train_loss: 0.2846160814383604, train_accu: 0.9001142857142858, test_loss: 0.3911947594103167, test_accu: 0.8405333333333334\n"
     ]
    },
    {
     "name": "stderr",
     "output_type": "stream",
     "text": [
      "Epoch 9/10: 100%|██████████| 274/274 [01:12<00:00,  3.75it/s]\n",
      "Test : 100%|██████████| 118/118 [00:08<00:00, 13.89it/s]\n"
     ]
    },
    {
     "name": "stdout",
     "output_type": "stream",
     "text": [
      "Epoch 9, train_loss: 0.2654577898283074, train_accu: 0.9111428571428571, test_loss: 0.39176486407296135, test_accu: 0.8446\n"
     ]
    },
    {
     "name": "stderr",
     "output_type": "stream",
     "text": [
      "Epoch 10/10: 100%|██████████| 274/274 [01:12<00:00,  3.76it/s]\n",
      "Test : 100%|██████████| 118/118 [00:08<00:00, 13.89it/s]"
     ]
    },
    {
     "name": "stdout",
     "output_type": "stream",
     "text": [
      "Epoch 10, train_loss: 0.24860797757214873, train_accu: 0.9186285714285715, test_loss: 0.4006336700108092, test_accu: 0.8452\n"
     ]
    },
    {
     "name": "stderr",
     "output_type": "stream",
     "text": [
      "\n"
     ]
    }
   ],
   "source": [
    "train_losses = []\n",
    "test_losses = []\n",
    "train_accu = []\n",
    "test_accu = []\n",
    "\n",
    "for epoch in range(n_epochs):\n",
    "    model.train()\n",
    "    train_loss = 0\n",
    "    train_accuracy = 0\n",
    "    total = 0\n",
    "    for data, target in tqdm(data_loader_train, total = len(data_loader_train), desc = f'Epoch {epoch + 1}/{n_epochs}'):\n",
    "        data = data.to(device)\n",
    "        target = target.to(device)\n",
    "        optimizer.zero_grad()\n",
    "        output = model(data)\n",
    "        loss = criterion(output, target.float())\n",
    "        loss.backward()\n",
    "        optimizer.step()\n",
    "\n",
    "        with torch.no_grad():\n",
    "            train_loss += loss.item()\n",
    "            train_accuracy += ((output > 0.5) == target).sum().item()\n",
    "            total += len(target)\n",
    "    train_losses.append(train_loss / len(data_loader_train))\n",
    "    train_accu.append(train_accuracy / total)\n",
    "\n",
    "    model.eval()\n",
    "    test_loss = 0\n",
    "    test_accuracy = 0\n",
    "    total = 0\n",
    "    with torch.no_grad():\n",
    "        for data, target in tqdm(data_loader_test, total = len(data_loader_test), desc = 'Test '):\n",
    "            data = data.to(device)\n",
    "            target = target.to(device)\n",
    "            output = model(data)\n",
    "            loss = criterion(output, target.float())\n",
    "            test_loss += loss.item()\n",
    "            test_accuracy += ((output > 0.5) == target).sum().item()\n",
    "            total += len(target)\n",
    "        test_losses.append(test_loss / len(data_loader_test))\n",
    "        test_accu.append(test_accuracy / total)\n",
    "\n",
    "    print(f'Epoch {epoch+1}, train_loss: {train_losses[-1]}, train_accu: {train_accu[-1]}, test_loss: {test_losses[-1]}, test_accu: {test_accu[-1]}')\n"
   ]
  },
  {
   "cell_type": "code",
   "execution_count": 64,
   "metadata": {},
   "outputs": [
    {
     "name": "stdout",
     "output_type": "stream",
     "text": [
      "Model saved\n"
     ]
    }
   ],
   "source": [
    "# Save model and data\n",
    "\n",
    "torch.save(model.state_dict(), os.path.join(path_save, 'model.pth'))\n",
    "print('Model saved')\n",
    "\n",
    "with open(os.path.join(path_save, 'results_training.pkl'), 'wb') as f:\n",
    "    pickle.dump((train_losses, test_losses, train_accu, test_accu), f)\n",
    "with open(os.path.join(path_save, 'embeddings.pkl'), 'wb') as f:\n",
    "    pickle.dump((data_loader_train, data_loader_test, len_all_words, max_len, data_train, data_test, dic), f)"
   ]
  },
  {
   "cell_type": "markdown",
   "metadata": {},
   "source": [
    "Below the code allows to choose a review from the test dataset, and see the model's behavior."
   ]
  },
  {
   "cell_type": "code",
   "execution_count": 19,
   "metadata": {},
   "outputs": [
    {
     "name": "stdout",
     "output_type": "stream",
     "text": [
      "I remember this film,it was the first film i had watched at the cinema the picture was dark in places i was very nervous it was back in 74/75 my Dad took me my brother & sister to Newbury cinema in Newbury Berkshire England. I recall the tigers and the lots of snow in the film also the appearance of Grizzly Adams actor Dan Haggery i think one of the tigers gets shot and dies. If anyone knows where to find this on DVD etc please let me know.The cinema now has been turned in a fitness club which is a very big shame as the nearest cinema now is 20 miles away, would love to hear from others who have seen this film or any other like it.\n",
      "Output: 0.9562034010887146 Target: 1\n",
      "Length of review = 63\n",
      "Length of review: 63\n",
      "data.shape = torch.Size([1, 1416])\n"
     ]
    }
   ],
   "source": [
    "indice = 5 # Choose\n",
    "indice = data_test.index[indice]\n",
    "\n",
    "data = data_test[\"word_index\"][indice]\n",
    "data += [len_all_words - 1] * (max_len - len(data))\n",
    "\n",
    "target = data_test[\"sentiment\"][indice]\n",
    "\n",
    "review = data_test[\"review_clean\"][indice]\n",
    "print(data_test[\"review\"][indice])\n",
    "\n",
    "data = torch.tensor(data).unsqueeze(0).to(device)\n",
    "output = model(data)\n",
    "print(\"Output:\", output.item(), \"Target:\", target)\n",
    "\n",
    "print(f\"Length of review = {len(review.split())}\")\n",
    "print(f\"Length of review: {len([i for i in range(len(data[0])) if data[0][i] != data[0][-1]])}\")\n",
    "\n",
    "print(f\"data.shape = {data.shape}\")"
   ]
  },
  {
   "cell_type": "markdown",
   "metadata": {},
   "source": [
    "We can also create our own review. In the next cell, we write a review that is both positive and negative."
   ]
  },
  {
   "cell_type": "code",
   "execution_count": 46,
   "metadata": {},
   "outputs": [
    {
     "name": "stdout",
     "output_type": "stream",
     "text": [
      "tensor([[ 41471,  10089,  96082,  ..., 101160, 101160, 101160]],\n",
      "       device='cuda:0')\n",
      "Output: 0.5999946594238281\n"
     ]
    }
   ],
   "source": [
    "review = \"This movie is really bad I loved it it was great though it was terrible I would recommend it to everyone\"\n",
    "review = review.lower()\n",
    "review = \" \".join([word for word in review.split() if word in dic])\n",
    "\n",
    "data = [dic[word] for word in review.split() if word in dic]\n",
    "data = data[:max_len]\n",
    "data += [len_all_words - 1] * (max_len - len(data))\n",
    "data = torch.tensor(data).unsqueeze(0).to(device)\n",
    "print(data)\n",
    "\n",
    "output = model(data)\n",
    "print(\"Output:\", output.item())"
   ]
  },
  {
   "cell_type": "markdown",
   "metadata": {},
   "source": [
    "We see that the output of the model is typically about $0.6$: it is not sure whether it is positive or negative (but it would rather say positive).\n",
    "\n",
    "Below, we plot the vectors in the plane for the first layer, and a deeper layer."
   ]
  },
  {
   "cell_type": "code",
   "execution_count": 58,
   "metadata": {},
   "outputs": [],
   "source": [
    "def plot_frame(list_index, indices, evolution):\n",
    "    \"\"\"\n",
    "    Plot the evolution of the hidden states of the model for the given indices\n",
    "\n",
    "    list_index: list of indices of the layers to plot\n",
    "    indices: list of indices of the words to annotate\n",
    "    evolution: tensor of shape (num_layers, num_words, 2)\n",
    "    \"\"\"\n",
    "    plt.clf()\n",
    "\n",
    "    n_columns = 2\n",
    "    n_rows = len(list_index) // n_columns + 1\n",
    "\n",
    "    plt.figure(figsize = (n_columns * 7, n_rows * 6))\n",
    "\n",
    "    for i, index in enumerate(list_index):\n",
    "        plt.subplot(n_rows, n_columns, i + 1)\n",
    "        plt.scatter(evolution[index, :, 0], evolution[index, :, 1])\n",
    "\n",
    "        # Annotate the points\n",
    "        for k, j in enumerate(indices):\n",
    "            txt = review.split(\" \")[j]\n",
    "            x, y = evolution[index, k, 0], evolution[index, k, 1]\n",
    "            x, y = 1.2 * x, 1.2 * y\n",
    "            plt.annotate(txt, (x, y))\n",
    "        \n",
    "        # Plot the unit circle\n",
    "        theta = np.linspace(0, 2*np.pi, 100)\n",
    "        x1 = np.cos(theta)\n",
    "        x2 = np.sin(theta)\n",
    "        plt.plot(x1, x2, 'k--', label='Unit circle')\n",
    "\n",
    "        plt.title(f\"Layer {index + 1}\")\n",
    "        \n",
    "        plt.xlim(-2, 2)\n",
    "        plt.ylim(-2, 2)\n",
    "\n",
    "        plt.gca().set_aspect('equal')\n",
    "\n",
    "    plt.tight_layout()\n",
    "    plt.show()"
   ]
  },
  {
   "cell_type": "code",
   "execution_count": 59,
   "metadata": {},
   "outputs": [
    {
     "data": {
      "text/plain": [
       "<Figure size 640x480 with 0 Axes>"
      ]
     },
     "metadata": {},
     "output_type": "display_data"
    },
    {
     "data": {
      "image/png": "[encoded data removed]",
      "text/plain": [
       "<Figure size 1400x1200 with 2 Axes>"
      ]
     },
     "metadata": {},
     "output_type": "display_data"
    }
   ],
   "source": [
    "output, interm = model(data, True)\n",
    "indices = [2, 3, 4, 6, 8]\n",
    "evolution = [x[0, indices, :] for x in interm]\n",
    "evolution = torch.stack(evolution, dim = 0)\n",
    "evolution = evolution.detach().cpu().numpy()\n",
    "\n",
    "plot_frame([0, 3], indices, evolution)"
   ]
  },
  {
   "cell_type": "markdown",
   "metadata": {},
   "source": [
    "We see that the embedding is, as expected, doing a lot: \"loved\" and \"great\" are close to each other, so are \"bad\" and \"terrible\", while \"recommend\" is somewhere in-between.\n",
    "\n",
    "But we see that self-attention pushes \"recommend\" towards \"loved\" and \"great\"."
   ]
  }
 ],
 "metadata": {
  "kernelspec": {
   "display_name": "tFAU",
   "language": "python",
   "name": "python3"
  },
  "language_info": {
   "codemirror_mode": {
    "name": "ipython",
    "version": 3
   },
   "file_extension": ".py",
   "mimetype": "text/x-python",
   "name": "python",
   "nbconvert_exporter": "python",
   "pygments_lexer": "ipython3",
   "version": "3.9.19"
  }
 },
 "nbformat": 4,
 "nbformat_minor": 2
}
